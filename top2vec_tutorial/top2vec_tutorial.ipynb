{
 "cells": [
  {
   "cell_type": "code",
   "execution_count": 3,
   "metadata": {},
   "outputs": [],
   "source": [
    "import pandas as pd\n",
    "import re\n",
    "from top2vec import Top2Vec\n",
    "\n",
    "df = pd.read_json(\"vol7.json\")\n",
    "\n",
    "docs = df.descriptions.tolist()\n",
    "names = df.names.tolist()\n",
    "docs = [d.replace(\"See \", \"\") for d in docs]\n",
    "docs = [re.sub(r\"\\([^()]*\\)\", \"\", d).replace(\" .\", \"\") for d in docs]"
   ]
  },
  {
   "cell_type": "code",
   "execution_count": 4,
   "metadata": {},
   "outputs": [],
   "source": [
    "unique_names = []\n",
    "for i, name in enumerate(names):\n",
    "    unique_name = f\"{i:04}_{name}\"\n",
    "    unique_names.append(unique_name)"
   ]
  },
  {
   "cell_type": "code",
   "execution_count": 5,
   "metadata": {},
   "outputs": [
    {
     "name": "stderr",
     "output_type": "stream",
     "text": [
      "2022-08-08 08:55:02,627 - top2vec - INFO - Pre-processing documents for training\n",
      "2022-08-08 08:55:07,357 - top2vec - INFO - Creating joint document/word embedding\n",
      "2022-08-08 08:56:32,486 - top2vec - INFO - Creating lower dimension embedding of documents\n",
      "2022-08-08 08:57:47,455 - top2vec - INFO - Finding dense areas of documents\n",
      "2022-08-08 08:57:58,434 - top2vec - INFO - Finding topics\n"
     ]
    }
   ],
   "source": [
    "model = Top2Vec(docs, speed='fast-learn', document_ids=unique_names)"
   ]
  },
  {
   "cell_type": "code",
   "execution_count": 6,
   "metadata": {},
   "outputs": [
    {
     "name": "stdout",
     "output_type": "stream",
     "text": [
      "Document: 2906_GREY, Fudisile Ntlekevana, Score: 0.9935300350189209\n",
      "----------\n",
      "Was shot dead by members of the SAP during intense public unrest in Duncan Village, East London, on 13 August 1985. Duncan Village. \n",
      "----------\n",
      "\n",
      "Document: 16096_NQWELE, Mncedisis Rooi, Score: 0.9930319786071777\n",
      "----------\n",
      "Was shot dead by members of the SAP during intense public unrest in Duncan Village, East London, on 13 August 1985. \n",
      "----------\n",
      "\n",
      "Document: 2294_DUMAKUDE, Thembekile, Score: 0.9928816556930542\n",
      "----------\n",
      "An ANC supporter who was shot dead by members of the SADF during intense public unrest in Duncan Village, East London, on 13 August 1985.\n",
      "----------\n",
      "\n",
      "Document: 8453_MAZAKA, Mike, Score: 0.9923533201217651\n",
      "----------\n",
      "Was shot dead by members of the SADF on 2 September 1985 during intense public unrest in Duncan Village, East London.\n",
      "----------\n",
      "\n",
      "Document: 19998_THOLE, Zandisile Dudana, Score: 0.9913330078125\n",
      "----------\n",
      "Was shot by members of the SADF during intense public unrest in Duncan Village, East London, on 13 August 1985. \n",
      "----------\n",
      "\n",
      "Document: 19542_SOBOYISE, Zulisa, Score: 0.9912517070770264\n",
      "----------\n",
      "Was shot by a member of the SADF during intense public unrest in Duncan Village, East London, on 14 August 1985. \n",
      "----------\n",
      "\n",
      "Document: 2105_DODO, Mteteleli Michael, Score: 0.9912149906158447\n",
      "----------\n",
      "Was shot and injured by members of the SADF during intense public unrest in Duncan Village, East London, in August 1985.\n",
      "----------\n",
      "\n",
      "Document: 6553_MAJAJA, Mxolisi Alfred, Score: 0.99116051197052\n",
      "----------\n",
      "An ANC supporter who was shot by members of the SAP and SADF during intense public unrest in Duncan Village, East London, in August 1985. Duncan Village. \n",
      "----------\n",
      "\n",
      "Document: 6675_MAKEKE, Michael, Score: 0.9911014437675476\n",
      "----------\n",
      "Was shot in the leg by members of the SAP during intense public unrest in Duncan Village, East London, on 16 August 1985. Duncan Village. \n",
      "----------\n",
      "\n",
      "Document: 2894_GQWETHA, Mzamo, Score: 0.9908686280250549\n",
      "----------\n",
      "Was shot by members of the SAP during intense public unrest in Duncan Village, East London, on 13 August 1985. Duncan village. \n",
      "----------\n",
      "\n"
     ]
    }
   ],
   "source": [
    "documents, document_scores, document_ids = model.search_documents_by_topic(topic_num=2, num_docs=10)\n",
    "for doc, score, doc_id in zip(documents, document_scores, document_ids):\n",
    "    print(f\"Document: {doc_id}, Score: {score}\")\n",
    "    print(\"----------\")\n",
    "    print(doc)\n",
    "    print(\"----------\")\n",
    "    print()"
   ]
  },
  {
   "cell_type": "code",
   "execution_count": 7,
   "metadata": {},
   "outputs": [
    {
     "data": {
      "text/plain": [
       "array(['0000_AARON, Thabo Simon', '0001_ABBOTT, Montaigne',\n",
       "       '0002_ABDUL WAHAB, Zakier', ..., '21744_ZWENI, Louis',\n",
       "       '21745_ZWENI, Mpantesa William', '21746_ZWENI, Xolile Milton'],\n",
       "      dtype='<U85')"
      ]
     },
     "execution_count": 7,
     "metadata": {},
     "output_type": "execute_result"
    }
   ],
   "source": [
    "model.document_ids"
   ]
  },
  {
   "cell_type": "code",
   "execution_count": 8,
   "metadata": {},
   "outputs": [],
   "source": [
    "import numpy as np\n",
    "\n",
    "unique_names2 = []\n",
    "\n",
    "for name in unique_names:\n",
    "    name = name.replace(\", \", \"_\" ).replace(\" \", \"_\")\n",
    "    unique_names2.append(name)\n",
    "\n",
    "unique_names_array = np.asarray(unique_names2)"
   ]
  },
  {
   "cell_type": "code",
   "execution_count": 9,
   "metadata": {},
   "outputs": [
    {
     "data": {
      "text/plain": [
       "array(['0000_AARON_Thabo_Simon', '0001_ABBOTT_Montaigne',\n",
       "       '0002_ABDUL_WAHAB_Zakier', ..., '21744_ZWENI_Louis',\n",
       "       '21745_ZWENI_Mpantesa_William', '21746_ZWENI_Xolile_Milton'],\n",
       "      dtype='<U84')"
      ]
     },
     "execution_count": 9,
     "metadata": {},
     "output_type": "execute_result"
    }
   ],
   "source": [
    "unique_names_array"
   ]
  },
  {
   "cell_type": "code",
   "execution_count": 10,
   "metadata": {},
   "outputs": [],
   "source": [
    "model.document_ids = unique_names_array"
   ]
  },
  {
   "cell_type": "code",
   "execution_count": 11,
   "metadata": {},
   "outputs": [
    {
     "data": {
      "text/plain": [
       "array(['0000_AARON_Thabo_Simon', '0001_ABBOTT_Montaigne',\n",
       "       '0002_ABDUL_WAHAB_Zakier', ..., '21744_ZWENI_Louis',\n",
       "       '21745_ZWENI_Mpantesa_William', '21746_ZWENI_Xolile_Milton'],\n",
       "      dtype='<U84')"
      ]
     },
     "execution_count": 11,
     "metadata": {},
     "output_type": "execute_result"
    }
   ],
   "source": [
    "model.document_ids"
   ]
  },
  {
   "cell_type": "code",
   "execution_count": 12,
   "metadata": {},
   "outputs": [
    {
     "name": "stdout",
     "output_type": "stream",
     "text": [
      "Document: 2906_GREY_Fudisile_Ntlekevana, Score: 0.9935300350189209\n",
      "----------\n",
      "Was shot dead by members of the SAP during intense public unrest in Duncan Village, East London, on 13 August 1985. Duncan Village. \n",
      "----------\n",
      "\n",
      "Document: 16096_NQWELE_Mncedisis_Rooi, Score: 0.9930319786071777\n",
      "----------\n",
      "Was shot dead by members of the SAP during intense public unrest in Duncan Village, East London, on 13 August 1985. \n",
      "----------\n",
      "\n",
      "Document: 2294_DUMAKUDE_Thembekile, Score: 0.9928816556930542\n",
      "----------\n",
      "An ANC supporter who was shot dead by members of the SADF during intense public unrest in Duncan Village, East London, on 13 August 1985.\n",
      "----------\n",
      "\n",
      "Document: 8453_MAZAKA_Mike, Score: 0.9923533201217651\n",
      "----------\n",
      "Was shot dead by members of the SADF on 2 September 1985 during intense public unrest in Duncan Village, East London.\n",
      "----------\n",
      "\n",
      "Document: 19998_THOLE_Zandisile_Dudana, Score: 0.9913330078125\n",
      "----------\n",
      "Was shot by members of the SADF during intense public unrest in Duncan Village, East London, on 13 August 1985. \n",
      "----------\n",
      "\n",
      "Document: 19542_SOBOYISE_Zulisa, Score: 0.9912517070770264\n",
      "----------\n",
      "Was shot by a member of the SADF during intense public unrest in Duncan Village, East London, on 14 August 1985. \n",
      "----------\n",
      "\n",
      "Document: 2105_DODO_Mteteleli_Michael, Score: 0.9912149906158447\n",
      "----------\n",
      "Was shot and injured by members of the SADF during intense public unrest in Duncan Village, East London, in August 1985.\n",
      "----------\n",
      "\n",
      "Document: 6553_MAJAJA_Mxolisi_Alfred, Score: 0.99116051197052\n",
      "----------\n",
      "An ANC supporter who was shot by members of the SAP and SADF during intense public unrest in Duncan Village, East London, in August 1985. Duncan Village. \n",
      "----------\n",
      "\n",
      "Document: 6675_MAKEKE_Michael, Score: 0.9911014437675476\n",
      "----------\n",
      "Was shot in the leg by members of the SAP during intense public unrest in Duncan Village, East London, on 16 August 1985. Duncan Village. \n",
      "----------\n",
      "\n",
      "Document: 2894_GQWETHA_Mzamo, Score: 0.9908686280250549\n",
      "----------\n",
      "Was shot by members of the SAP during intense public unrest in Duncan Village, East London, on 13 August 1985. Duncan village. \n",
      "----------\n",
      "\n"
     ]
    }
   ],
   "source": [
    "documents, document_scores, document_ids = model.search_documents_by_topic(topic_num=2, num_docs=10)\n",
    "for doc, score, doc_id in zip(documents, document_scores, document_ids):\n",
    "    print(f\"Document: {doc_id}, Score: {score}\")\n",
    "    print(\"----------\")\n",
    "    print(doc)\n",
    "    print(\"----------\")\n",
    "    print()"
   ]
  },
  {
   "cell_type": "code",
   "execution_count": 13,
   "metadata": {},
   "outputs": [],
   "source": [
    "model.save(\"/Users/spicy.kev/Desktop/model1\")"
   ]
  },
  {
   "cell_type": "code",
   "execution_count": 14,
   "metadata": {},
   "outputs": [
    {
     "name": "stderr",
     "output_type": "stream",
     "text": [
      "2022-08-08 08:58:01,150 - top2vec - INFO - Pre-processing documents for training\n",
      "2022-08-08 08:58:03,540 - top2vec - INFO - Creating joint document/word embedding\n",
      "2022-08-08 08:59:08,838 - top2vec - INFO - Creating lower dimension embedding of documents\n",
      "2022-08-08 16:28:46,900 - top2vec - INFO - Finding dense areas of documents\n",
      "2022-08-08 16:28:50,432 - top2vec - INFO - Finding topics\n"
     ]
    }
   ],
   "source": [
    "model2 = Top2Vec(docs, document_ids=unique_names, speed='fast-learn', keep_documents=False)"
   ]
  },
  {
   "cell_type": "code",
   "execution_count": 15,
   "metadata": {},
   "outputs": [],
   "source": [
    "model2.save(\"model2\")"
   ]
  },
  {
   "cell_type": "code",
   "execution_count": 16,
   "metadata": {},
   "outputs": [
    {
     "ename": "ValueError",
     "evalue": "not enough values to unpack (expected 3, got 2)",
     "output_type": "error",
     "traceback": [
      "\u001b[0;31m---------------------------------------------------------------------------\u001b[0m",
      "\u001b[0;31mValueError\u001b[0m                                Traceback (most recent call last)",
      "\u001b[1;32m/Users/spicy.kev/Desktop/top2vec_tutorial.ipynb Cell 14\u001b[0m in \u001b[0;36m<cell line: 1>\u001b[0;34m()\u001b[0m\n\u001b[0;32m----> <a href='vscode-notebook-cell:/Users/spicy.kev/Desktop/top2vec_tutorial.ipynb#X16sZmlsZQ%3D%3D?line=0'>1</a>\u001b[0m documents, document_scores, document_ids \u001b[39m=\u001b[39m model2\u001b[39m.\u001b[39msearch_documents_by_topic(topic_num\u001b[39m=\u001b[39m\u001b[39m2\u001b[39m, num_docs\u001b[39m=\u001b[39m\u001b[39m10\u001b[39m)\n\u001b[1;32m      <a href='vscode-notebook-cell:/Users/spicy.kev/Desktop/top2vec_tutorial.ipynb#X16sZmlsZQ%3D%3D?line=1'>2</a>\u001b[0m \u001b[39mfor\u001b[39;00m doc, score, doc_id \u001b[39min\u001b[39;00m \u001b[39mzip\u001b[39m(documents, document_scores, document_ids):\n\u001b[1;32m      <a href='vscode-notebook-cell:/Users/spicy.kev/Desktop/top2vec_tutorial.ipynb#X16sZmlsZQ%3D%3D?line=2'>3</a>\u001b[0m     \u001b[39mprint\u001b[39m(\u001b[39mf\u001b[39m\u001b[39m\"\u001b[39m\u001b[39mDocument: \u001b[39m\u001b[39m{\u001b[39;00mdoc_id\u001b[39m}\u001b[39;00m\u001b[39m, Score: \u001b[39m\u001b[39m{\u001b[39;00mscore\u001b[39m}\u001b[39;00m\u001b[39m\"\u001b[39m)\n",
      "\u001b[0;31mValueError\u001b[0m: not enough values to unpack (expected 3, got 2)"
     ]
    }
   ],
   "source": [
    "documents, document_scores, document_ids = model2.search_documents_by_topic(topic_num=2, num_docs=10)\n",
    "for doc, score, doc_id in zip(documents, document_scores, document_ids):\n",
    "    print(f\"Document: {doc_id}, Score: {score}\")\n",
    "    print(\"----------\")\n",
    "    print(doc)\n",
    "    print(\"----------\")\n",
    "    print()\n",
    "\n",
    "# This will throw an error ..."
   ]
  },
  {
   "cell_type": "code",
   "execution_count": null,
   "metadata": {},
   "outputs": [],
   "source": []
  }
 ],
 "metadata": {
  "kernelspec": {
   "display_name": "Python 3.9.12 ('nlp')",
   "language": "python",
   "name": "python3"
  },
  "language_info": {
   "codemirror_mode": {
    "name": "ipython",
    "version": 3
   },
   "file_extension": ".py",
   "mimetype": "text/x-python",
   "name": "python",
   "nbconvert_exporter": "python",
   "pygments_lexer": "ipython3",
   "version": "3.9.12"
  },
  "orig_nbformat": 4,
  "vscode": {
   "interpreter": {
    "hash": "75edb825c87a0a6a7d95357b6ff5e82dfc93866b13e30996819bc52b6af5b8b6"
   }
  }
 },
 "nbformat": 4,
 "nbformat_minor": 2
}
