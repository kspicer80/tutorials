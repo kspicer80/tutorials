{
 "cells": [
  {
   "cell_type": "markdown",
   "metadata": {},
   "source": [
    "# Demo 1:"
   ]
  },
  {
   "cell_type": "code",
   "execution_count": 1,
   "metadata": {},
   "outputs": [],
   "source": [
    "import json\n",
    "from top2vec import Top2Vec"
   ]
  },
  {
   "cell_type": "code",
   "execution_count": 2,
   "metadata": {},
   "outputs": [],
   "source": [
    "with open('data/vol7.json', 'r') as f:\n",
    "    data = json.load(f)"
   ]
  },
  {
   "cell_type": "code",
   "execution_count": 3,
   "metadata": {},
   "outputs": [],
   "source": [
    "names = data['names']\n",
    "documents = data['descriptions']"
   ]
  },
  {
   "cell_type": "code",
   "execution_count": 4,
   "metadata": {},
   "outputs": [
    {
     "data": {
      "text/plain": [
       "\"An ANCYL member who was shot and severely injured by SAP members at Lephoi, Bethulie, Orange Free State (OFS) on 17 April 1991. Police opened fire on a gathering at an ANC supporter's house following a dispute between two neighbours, one of whom was linked to the ANC and the other to the SAP and a councillor.\""
      ]
     },
     "execution_count": 4,
     "metadata": {},
     "output_type": "execute_result"
    }
   ],
   "source": [
    "documents[0]"
   ]
  },
  {
   "cell_type": "code",
   "execution_count": 5,
   "metadata": {},
   "outputs": [
    {
     "name": "stderr",
     "output_type": "stream",
     "text": [
      "2022-09-02 16:41:18,338 - top2vec - INFO - Pre-processing documents for training\n",
      "2022-09-02 16:41:23,144 - top2vec - INFO - Creating joint document/word embedding\n",
      "2022-09-02 16:43:06,717 - top2vec - INFO - Creating lower dimension embedding of documents\n",
      "2022-09-02 16:44:25,034 - top2vec - INFO - Finding dense areas of documents\n",
      "2022-09-02 16:44:36,135 - top2vec - INFO - Finding topics\n"
     ]
    }
   ],
   "source": [
    "model = Top2Vec(documents)"
   ]
  },
  {
   "cell_type": "code",
   "execution_count": 6,
   "metadata": {},
   "outputs": [
    {
     "data": {
      "text/plain": [
       "293"
      ]
     },
     "execution_count": 6,
     "metadata": {},
     "output_type": "execute_result"
    }
   ],
   "source": [
    "model.get_num_topics()"
   ]
  },
  {
   "cell_type": "code",
   "execution_count": 7,
   "metadata": {},
   "outputs": [],
   "source": [
    "topic_sizes, topic_nums = model.get_topic_sizes()"
   ]
  },
  {
   "cell_type": "code",
   "execution_count": 8,
   "metadata": {},
   "outputs": [
    {
     "data": {
      "text/plain": [
       "array([749, 342, 270, 231, 217, 211, 210, 206, 202, 200, 195, 191, 191,\n",
       "       189, 175, 174, 169, 169, 163, 156, 150, 143, 135, 134, 131, 126,\n",
       "       125, 122, 121, 120, 120, 120, 119, 119, 116, 115, 115, 114, 112,\n",
       "       111, 110, 109, 109, 108, 107, 107, 104, 104, 103, 102, 102, 100,\n",
       "       100,  99,  98,  98,  97,  97,  96,  93,  93,  93,  92,  92,  92,\n",
       "        90,  90,  90,  89,  88,  88,  88,  88,  87,  86,  86,  85,  85,\n",
       "        83,  82,  82,  81,  81,  81,  81,  81,  80,  80,  79,  79,  79,\n",
       "        78,  78,  78,  78,  77,  77,  76,  76,  75,  75,  74,  73,  72,\n",
       "        72,  72,  72,  71,  71,  71,  70,  70,  70,  69,  69,  69,  69,\n",
       "        68,  67,  67,  67,  66,  66,  66,  66,  66,  66,  65,  65,  65,\n",
       "        64,  64,  63,  63,  63,  63,  62,  62,  62,  61,  61,  61,  61,\n",
       "        61,  61,  60,  60,  60,  60,  60,  60,  60,  60,  60,  60,  59,\n",
       "        59,  58,  58,  58,  58,  58,  58,  57,  56,  56,  56,  56,  56,\n",
       "        54,  54,  54,  54,  54,  53,  53,  53,  53,  52,  52,  52,  52,\n",
       "        52,  52,  52,  51,  51,  51,  50,  50,  50,  50,  50,  49,  49,\n",
       "        49,  49,  49,  48,  48,  48,  48,  47,  47,  47,  47,  47,  47,\n",
       "        46,  46,  46,  46,  45,  44,  44,  44,  44,  44,  44,  44,  43,\n",
       "        43,  42,  42,  41,  41,  41,  41,  41,  41,  41,  40,  40,  40,\n",
       "        39,  38,  38,  38,  37,  37,  37,  37,  37,  37,  36,  36,  36,\n",
       "        36,  36,  36,  36,  36,  36,  36,  35,  35,  35,  35,  35,  34,\n",
       "        32,  32,  32,  31,  31,  31,  31,  31,  31,  30,  29,  28,  28,\n",
       "        27,  27,  27,  27,  26,  26,  25,  24,  23,  23,  23,  23,  22,\n",
       "        22,  20,  19,  19,  19,  17,  16])"
      ]
     },
     "execution_count": 8,
     "metadata": {},
     "output_type": "execute_result"
    }
   ],
   "source": [
    "topic_sizes"
   ]
  },
  {
   "cell_type": "code",
   "execution_count": 9,
   "metadata": {},
   "outputs": [],
   "source": [
    "topic_words, word_scores, topic_scores, topic_nums = model.search_topics(keywords=['police'], num_topics=5)"
   ]
  },
  {
   "cell_type": "code",
   "execution_count": 10,
   "metadata": {},
   "outputs": [
    {
     "data": {
      "text/plain": [
       "array([ 68, 192,  64, 153, 248])"
      ]
     },
     "execution_count": 10,
     "metadata": {},
     "output_type": "execute_result"
    }
   ],
   "source": [
    "topic_nums"
   ]
  },
  {
   "cell_type": "code",
   "execution_count": 11,
   "metadata": {},
   "outputs": [
    {
     "name": "stdout",
     "output_type": "stream",
     "text": [
      "Document: 13439, Score: 0.9805701375007629\n",
      "-----------------------\n",
      "Was injured on 29 July 1986 when an MK unit attacked the Madeira police station, in Umtata, Transkei. At least eight people were killed in the attack, including policemen, civilians and one of the MK operatives. One MK operative applied for and was granted amnesty (AC/2000/240).\n",
      "-----------------------\n",
      "\n",
      "Document: 13785, Score: 0.9795854091644287\n",
      "-----------------------\n",
      "Was shot dead on 29 July 1986 when an MK unit attacked the Madeira police station, in Umtata, Transkei. At least eight people were killed in the attack, including policemen, civilians and one of the MK operatives. One MK operative applied for and was granted amnesty (AC/2000/240).\n",
      "-----------------------\n",
      "\n",
      "Document: 13402, Score: 0.9748282432556152\n",
      "-----------------------\n",
      "Was shot dead on 29 July 1986 when an MK unit attacked the Madeira police station, in Umtata, Transkei. At least eight people were killed in the attack, including policemen, civilians and one of the MK operatives. One MK operative applied for and was granted amnesty (AC/2000/240).\n",
      "-----------------------\n",
      "\n",
      "Document: 14393, Score: 0.9746080636978149\n",
      "-----------------------\n",
      "Was injured on 29 July 1986 when an MK unit attacked the Madeira police station, in Umtata, Transkei. At least eight people were killed in the attack, including policemen, civilians and one of the MK operatives. One MK operative applied for and was granted amnesty (AC/2000/240). \n",
      "-----------------------\n",
      "\n",
      "Document: 15390, Score: 0.9745588302612305\n",
      "-----------------------\n",
      "Was shot dead on 29 July 1986 when an MK unit attacked the Madeira police station, in Umtata, Transkei. At least eight people were killed in the attack, including policemen, civilians and one of the MK operatives. One MK operative applied for and was granted amnesty (AC/2000/240) &nbsp;\n",
      "-----------------------\n",
      "\n",
      "Document: 2462, Score: 0.970940887928009\n",
      "-----------------------\n",
      "Was injured when an MK unit attacked the Madeira police station, in Umtata, Transkei, on 29 July 1986. At least eight people were killed in the attack, including members of the SAP, civilians and one of the MK operatives. One MK operative applied for and was granted amnesty (AC/2000/240).\n",
      "-----------------------\n",
      "\n",
      "Document: 16591, Score: 0.9700639843940735\n",
      "-----------------------\n",
      "Was injured on 29 July 1986 when an MK unit attacked the Madeira police station, in Umtata, Transkei. At least eight people were killed in the attack, including policemen, civilians and one of the MK operatives. One MK operative applied for and was granted amnesty (AC/2000/240). \n",
      "-----------------------\n",
      "\n",
      "Document: 13784, Score: 0.9700534343719482\n",
      "-----------------------\n",
      "Was shot dead on 29 July 1986 when an MK unit attacked the Madeira police station, in Umtata, Transkei. At least eight people were killed in the attack, including policemen, civilians and one of the MK operatives. One MK operative applied for and was granted amnesty (AC/2000/240). \n",
      "-----------------------\n",
      "\n",
      "Document: 11877, Score: 0.9691914319992065\n",
      "-----------------------\n",
      "Was shot dead on 29 July 1986 when an MK unit attacked the Madeira police station, in Umtata, Transkei. At least eight people were killed in the attack, including policemen, civilians and one of the MK operatives. One MK operative applied for and was granted amnesty (AC/2000/240).\n",
      "-----------------------\n",
      "\n",
      "Document: 13956, Score: 0.9678625464439392\n",
      "-----------------------\n",
      "Was shot dead on 29 July 1986 when an MK unit attacked the Madeira police station, in Umtata, Transkei. At least eight people were killed in the attack, including policemen, civilians and one of the MK operatives. One MK operative applied for and was granted amnesty (AC/2000/240). \n",
      "-----------------------\n",
      "\n"
     ]
    }
   ],
   "source": [
    "documents, document_scores, document_ids = model.search_documents_by_topic(topic_num=277, num_docs=10)\n",
    "for doc, score, doc_id in zip(documents, document_scores, document_ids):\n",
    "    print(f\"Document: {doc_id}, Score: {score}\")\n",
    "    print(\"-----------------------\")\n",
    "    print(doc)\n",
    "    print(\"-----------------------\")\n",
    "    print()"
   ]
  },
  {
   "cell_type": "markdown",
   "metadata": {},
   "source": [
    "# Demo 2:"
   ]
  },
  {
   "cell_type": "code",
   "execution_count": 12,
   "metadata": {},
   "outputs": [
    {
     "data": {
      "text/plain": [
       "7"
      ]
     },
     "execution_count": 12,
     "metadata": {},
     "output_type": "execute_result"
    }
   ],
   "source": [
    "with open('data/articles.txt', 'r', encoding='utf-8') as f:\n",
    "    documents = f.read().split('\\n\\n')\n",
    "len(documents)"
   ]
  },
  {
   "cell_type": "code",
   "execution_count": 14,
   "metadata": {},
   "outputs": [
    {
     "name": "stderr",
     "output_type": "stream",
     "text": [
      "2022-09-02 16:58:54,356 - top2vec - INFO - Pre-processing documents for training\n",
      "2022-09-02 16:58:54,364 - top2vec - INFO - Creating joint document/word embedding\n",
      "Exception in thread Thread-215:\n",
      "Traceback (most recent call last):\n",
      "  File \"/Users/spicy.kev/anaconda3/envs/nlp/lib/python3.9/threading.py\", line 973, in _bootstrap_inner\n",
      "    self.run()\n",
      "  File \"/Users/spicy.kev/anaconda3/envs/nlp/lib/python3.9/threading.py\", line 910, in run\n",
      "    self._target(*self._args, **self._kwargs)\n",
      "  File \"/Users/spicy.kev/anaconda3/envs/nlp/lib/python3.9/site-packages/gensim/models/base_any2vec.py\", line 210, in _worker_loop\n",
      "    tally, raw_tally = self._do_train_job(data_iterable, job_parameters, thread_private_mem)\n",
      "  File \"/Users/spicy.kev/anaconda3/envs/nlp/lib/python3.9/site-packages/gensim/models/doc2vec.py\", line 463, in _do_train_job\n",
      "    tally += train_document_dbow(\n",
      "  File \"gensim/models/doc2vec_inner.pyx\", line 349, in gensim.models.doc2vec_inner.train_document_dbow\n",
      "TypeError: Cannot convert list to numpy.ndarray\n"
     ]
    }
   ],
   "source": [
    "model = Top2Vec(documents)"
   ]
  },
  {
   "cell_type": "code",
   "execution_count": null,
   "metadata": {},
   "outputs": [],
   "source": [
    "model.get_documents_topics()"
   ]
  },
  {
   "cell_type": "code",
   "execution_count": null,
   "metadata": {},
   "outputs": [],
   "source": [
    "topic_sizes, topic_nums = model.get_topic_sizes()"
   ]
  },
  {
   "cell_type": "code",
   "execution_count": null,
   "metadata": {},
   "outputs": [],
   "source": [
    "topic_sizes"
   ]
  },
  {
   "cell_type": "code",
   "execution_count": null,
   "metadata": {},
   "outputs": [],
   "source": [
    "topic_words, word_scores, topic_scores, topic_nums = model.search_topics(keywords=['police'], num_topics=5)"
   ]
  },
  {
   "cell_type": "code",
   "execution_count": null,
   "metadata": {},
   "outputs": [],
   "source": [
    "topic_nums"
   ]
  },
  {
   "cell_type": "code",
   "execution_count": null,
   "metadata": {},
   "outputs": [],
   "source": [
    "documents, document_scores, document_ids = model.search_documents_by_topic(topic_num=277, num_docs=10)\n",
    "for doc, score, doc_id in zip(documents, document_scores, document_ids):\n",
    "    print(f\"Document: {doc_id}, Score: {score}\")\n",
    "    print(\"-----------------------\")\n",
    "    print(doc)\n",
    "    print(\"-----------------------\")\n",
    "    print()"
   ]
  },
  {
   "cell_type": "markdown",
   "metadata": {},
   "source": [
    "# Demo 3:"
   ]
  },
  {
   "cell_type": "code",
   "execution_count": null,
   "metadata": {},
   "outputs": [],
   "source": [
    "import pandas as pd\n",
    "import re\n",
    "\n",
    "df = pd.read_json(\"vol7.json\")\n",
    "\n",
    "docs = df.descriptions.tolist()\n",
    "names = df.names.tolist()\n",
    "docs = [d.replace(\"See \", \"\") for d in docs]\n",
    "docs = [re.sub(r\"\\([^()]*\\)\", \"\", d).replace(\" .\", \"\") for d in docs]"
   ]
  },
  {
   "cell_type": "code",
   "execution_count": null,
   "metadata": {},
   "outputs": [],
   "source": [
    "model = Top2Vec(docs, speed='fast-learn')"
   ]
  },
  {
   "cell_type": "code",
   "execution_count": null,
   "metadata": {},
   "outputs": [],
   "source": [
    "model_learn = Top2Vec(docs, speed='learn') "
   ]
  },
  {
   "cell_type": "code",
   "execution_count": null,
   "metadata": {},
   "outputs": [],
   "source": [
    "model_dlearn = Top2Vec(docs, speed='deep-learn') "
   ]
  },
  {
   "cell_type": "code",
   "execution_count": null,
   "metadata": {},
   "outputs": [],
   "source": [
    "model_dlearn = Top2Vec(docs, speed='deep-learn', workers=14)"
   ]
  },
  {
   "cell_type": "code",
   "execution_count": null,
   "metadata": {},
   "outputs": [],
   "source": [
    "topic_sizes, topic_nums = model.get_topic_sizes()\n",
    "print(topic_sizes)\n",
    "print(topic_nums)"
   ]
  },
  {
   "cell_type": "code",
   "execution_count": null,
   "metadata": {},
   "outputs": [],
   "source": [
    "unique_names = []\n",
    "for i, name in enumerate(names):\n",
    "    unique_name = f\"{i:04}_{name}\"\n",
    "    unique_names.append(unique_name)"
   ]
  },
  {
   "cell_type": "code",
   "execution_count": null,
   "metadata": {},
   "outputs": [],
   "source": [
    "model = Top2Vec(docs, speed='fast-learn', document_ids=unique_names)"
   ]
  },
  {
   "cell_type": "code",
   "execution_count": null,
   "metadata": {},
   "outputs": [],
   "source": [
    "documents, document_scores, document_ids = model.search_documents_by_topic(topic_num=2, num_docs=10)\n",
    "for doc, score, doc_id in zip(documents, document_scores, document_ids):\n",
    "    print(f\"Document: {doc_id}, Score: {score}\")\n",
    "    print(\"----------\")\n",
    "    print(doc)\n",
    "    print(\"----------\")\n",
    "    print()"
   ]
  },
  {
   "cell_type": "code",
   "execution_count": null,
   "metadata": {},
   "outputs": [],
   "source": [
    "model.document_ids"
   ]
  },
  {
   "cell_type": "code",
   "execution_count": null,
   "metadata": {},
   "outputs": [],
   "source": [
    "import numpy as np\n",
    "\n",
    "unique_names2 = []\n",
    "\n",
    "for name in unique_names:\n",
    "    name = name.replace(\", \", \"_\" ).replace(\" \", \"_\")\n",
    "    unique_names2.append(name)\n",
    "\n",
    "unique_names_array = np.asarray(unique_names2)"
   ]
  },
  {
   "cell_type": "code",
   "execution_count": null,
   "metadata": {},
   "outputs": [],
   "source": [
    "unique_names_array"
   ]
  },
  {
   "cell_type": "code",
   "execution_count": null,
   "metadata": {},
   "outputs": [],
   "source": [
    "model.document_ids = unique_names_array"
   ]
  },
  {
   "cell_type": "code",
   "execution_count": null,
   "metadata": {},
   "outputs": [],
   "source": [
    "model.document_ids"
   ]
  },
  {
   "cell_type": "code",
   "execution_count": null,
   "metadata": {},
   "outputs": [],
   "source": [
    "documents, document_scores, document_ids = model.search_documents_by_topic(topic_num=2, num_docs=10)\n",
    "for doc, score, doc_id in zip(documents, document_scores, document_ids):\n",
    "    print(f\"Document: {doc_id}, Score: {score}\")\n",
    "    print(\"----------\")\n",
    "    print(doc)\n",
    "    print(\"----------\")\n",
    "    print()"
   ]
  },
  {
   "cell_type": "code",
   "execution_count": null,
   "metadata": {},
   "outputs": [],
   "source": [
    "model.save(\"/Users/spicy.kev/Desktop/model1\")"
   ]
  },
  {
   "cell_type": "code",
   "execution_count": null,
   "metadata": {},
   "outputs": [],
   "source": [
    "model2 = Top2Vec(docs, document_ids=unique_names, speed='fast-learn', keep_documents=False)"
   ]
  },
  {
   "cell_type": "code",
   "execution_count": null,
   "metadata": {},
   "outputs": [],
   "source": [
    "model2.save(\"model2\")"
   ]
  },
  {
   "cell_type": "code",
   "execution_count": null,
   "metadata": {},
   "outputs": [],
   "source": [
    "documents, document_scores, document_ids = model2.search_documents_by_topic(topic_num=2, num_docs=10)\n",
    "for doc, score, doc_id in zip(documents, document_scores, document_ids):\n",
    "    print(f\"Document: {doc_id}, Score: {score}\")\n",
    "    print(\"----------\")\n",
    "    print(doc)\n",
    "    print(\"----------\")\n",
    "    print()\n",
    "\n",
    "# This will throw an error ..."
   ]
  },
  {
   "cell_type": "code",
   "execution_count": null,
   "metadata": {},
   "outputs": [],
   "source": []
  }
 ],
 "metadata": {
  "kernelspec": {
   "display_name": "Python 3.9.12 ('nlp')",
   "language": "python",
   "name": "python3"
  },
  "language_info": {
   "codemirror_mode": {
    "name": "ipython",
    "version": 3
   },
   "file_extension": ".py",
   "mimetype": "text/x-python",
   "name": "python",
   "nbconvert_exporter": "python",
   "pygments_lexer": "ipython3",
   "version": "3.9.12"
  },
  "orig_nbformat": 4,
  "vscode": {
   "interpreter": {
    "hash": "75edb825c87a0a6a7d95357b6ff5e82dfc93866b13e30996819bc52b6af5b8b6"
   }
  }
 },
 "nbformat": 4,
 "nbformat_minor": 2
}
